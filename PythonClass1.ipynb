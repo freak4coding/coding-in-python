{
 "cells": [
  {
   "cell_type": "markdown",
   "id": "f98db02a-d277-4a85-bbb5-a4a42805d22b",
   "metadata": {},
   "source": [
    "# String Replace"
   ]
  },
  {
   "cell_type": "code",
   "execution_count": 82,
   "id": "f68ec20a-592d-439a-a2bf-13cfc4eec6e2",
   "metadata": {},
   "outputs": [
    {
     "name": "stdout",
     "output_type": "stream",
     "text": [
      "Hello,howareyoudoing?\n"
     ]
    }
   ],
   "source": [
    "# Question-1\n",
    "input_string = \"Hello, how are you doing?\"\n",
    "print(input_string.replace(\" \",\"\"))"
   ]
  },
  {
   "cell_type": "code",
   "execution_count": 83,
   "id": "ae7810d3-968f-4bcd-bdfd-2b01d8da1d59",
   "metadata": {},
   "outputs": [
    {
     "name": "stdout",
     "output_type": "stream",
     "text": [
      "I have a notebook, a pen, and another notebook in my bag and book.\n"
     ]
    }
   ],
   "source": [
    "# Question-2\n",
    "input_string = \"I have a book, a pen, and another book in my bag and book.\"\n",
    "print(input_string.replace(\"book\",\"notebook\",2))"
   ]
  },
  {
   "cell_type": "markdown",
   "id": "1f0ea7ef-e54f-4ac6-882d-1cb60ef046ee",
   "metadata": {},
   "source": [
    "# String len()"
   ]
  },
  {
   "cell_type": "code",
   "execution_count": 84,
   "id": "f332b199-0720-4fb9-b9a6-e6d3c5bfe55d",
   "metadata": {},
   "outputs": [
    {
     "name": "stdout",
     "output_type": "stream",
     "text": [
      "0\n"
     ]
    }
   ],
   "source": [
    "# Question-1\n",
    "str1 = \"\"\n",
    "print(len(str1))"
   ]
  },
  {
   "cell_type": "code",
   "execution_count": 85,
   "id": "66c8f1ff-4574-4cb6-b946-208499102ec5",
   "metadata": {},
   "outputs": [
    {
     "name": "stdout",
     "output_type": "stream",
     "text": [
      "10\n"
     ]
    }
   ],
   "source": [
    "# Question-2\n",
    "str1 = \"\"\"amit\n",
    "kumar\"\"\"\n",
    "print(len(str1))"
   ]
  },
  {
   "cell_type": "markdown",
   "id": "eb175671-72e3-4302-8cc9-d03b46fa28b4",
   "metadata": {},
   "source": [
    "# String"
   ]
  },
  {
   "cell_type": "code",
   "execution_count": 86,
   "id": "766add65-bdcc-4096-b2a5-4437f5adcd23",
   "metadata": {},
   "outputs": [
    {
     "name": "stdout",
     "output_type": "stream",
     "text": [
      "10Ten\n"
     ]
    }
   ],
   "source": [
    "# Question-1\n",
    "var1 = 10\n",
    "var2 = \"Ten\"\n",
    "print(str(var1)+var2)"
   ]
  },
  {
   "cell_type": "code",
   "execution_count": 87,
   "id": "766fb352-44af-4b2f-b84b-7988a4c558f6",
   "metadata": {},
   "outputs": [
    {
     "name": "stdout",
     "output_type": "stream",
     "text": [
      "My name is Amit and I am 24 years old.\n"
     ]
    }
   ],
   "source": [
    "# Question-2\n",
    "name = \"Amit\"\n",
    "age = 24\n",
    "print(f\"My name is {name} and I am {age} years old.\")"
   ]
  },
  {
   "cell_type": "code",
   "execution_count": 88,
   "id": "a41c5cd2-8d88-4636-8da3-100784b80ae0",
   "metadata": {},
   "outputs": [
    {
     "name": "stdout",
     "output_type": "stream",
     "text": [
      "My name is Amit and I am 24 years old.\n"
     ]
    }
   ],
   "source": [
    "# Question-2\n",
    "name = \"Amit\"\n",
    "age = 24\n",
    "print(\"My name is {} and I am {} years old.\".format(name,age))"
   ]
  },
  {
   "cell_type": "code",
   "execution_count": 89,
   "id": "c94d4033-5ff4-467d-8c51-c90b53a496e7",
   "metadata": {},
   "outputs": [
    {
     "name": "stdout",
     "output_type": "stream",
     "text": [
      "Solution-1 =  A_b_c_d\n",
      "Solution-2 =  A_b_c_d\n",
      "Solution-3 =  A_b_c_d\n"
     ]
    }
   ],
   "source": [
    "# Question-3\n",
    "input_string = \"abcd\"\n",
    "print(\"Solution-1 = \",input_string.replace(\"\",\"_\",len(input_string)).replace(\"_\",\"\",1).capitalize())\n",
    "print(\"Solution-2 = \",input_string.capitalize().replace(\"\",\"_\",len(input_string)).replace(\"_\",\"\",1))\n",
    "input_string = input_string.capitalize()\n",
    "print(\"Solution-3 = \",\"_\".join(input_string))"
   ]
  },
  {
   "cell_type": "code",
   "execution_count": 90,
   "id": "ccc8d2ea-06f1-4d34-ba8f-dddd7d075cca",
   "metadata": {},
   "outputs": [
    {
     "name": "stdout",
     "output_type": "stream",
     "text": [
      "['one', 'two', 'three four five']\n"
     ]
    }
   ],
   "source": [
    "# Question-4\n",
    "my_string = \"one two three four five\"\n",
    "print(my_string.split(\" \",2))"
   ]
  }
 ],
 "metadata": {
  "kernelspec": {
   "display_name": "Python 3 (ipykernel)",
   "language": "python",
   "name": "python3"
  },
  "language_info": {
   "codemirror_mode": {
    "name": "ipython",
    "version": 3
   },
   "file_extension": ".py",
   "mimetype": "text/x-python",
   "name": "python",
   "nbconvert_exporter": "python",
   "pygments_lexer": "ipython3",
   "version": "3.9.13"
  }
 },
 "nbformat": 4,
 "nbformat_minor": 5
}
